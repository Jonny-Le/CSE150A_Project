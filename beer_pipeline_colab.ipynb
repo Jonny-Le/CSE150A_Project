{
 "cells": [
  {
   "cell_type": "markdown",
   "id": "6138e543",
   "metadata": {},
   "source": [
    "Beer-Liking Prediction Pipeline (Downloadable .ipynb)"
   ]
  },
  {
   "cell_type": "code",
   "execution_count": null,
   "id": "9bbe9981",
   "metadata": {},
   "outputs": [],
   "source": [
    "\n",
    "*This notebook follows the Milestone 2 structure: Data Prep, Modeling, Evaluation.*\n",
    "\n",
    "```python\n"
   ]
  },
  {
   "cell_type": "markdown",
   "id": "fb4213a3",
   "metadata": {},
   "source": [
    "%matplotlib inline"
   ]
  },
  {
   "cell_type": "code",
   "execution_count": null,
   "id": "1a743f81",
   "metadata": {},
   "outputs": [],
   "source": [
    "```\n",
    "\n",
    "*This notebook follows the Milestone 2 structure: Data Prep, Modeling, Evaluation.*\n",
    "\n",
    "```python\n"
   ]
  },
  {
   "cell_type": "markdown",
   "id": "0140cd29",
   "metadata": {},
   "source": [
    "%matplotlib inline"
   ]
  },
  {
   "cell_type": "code",
   "execution_count": null,
   "id": "ad1bab64",
   "metadata": {},
   "outputs": [],
   "source": [
    "```\n",
    " (Colab Script)\n",
    "\n"
   ]
  },
  {
   "cell_type": "markdown",
   "id": "c5e2d7e5",
   "metadata": {},
   "source": [
    "1. Setup & Imports"
   ]
  },
  {
   "cell_type": "markdown",
   "id": "e14c2b1a",
   "metadata": {},
   "source": [
    "------------------"
   ]
  },
  {
   "cell_type": "markdown",
   "id": "87036a8c",
   "metadata": {},
   "source": [
    "Install pgmpy if needed"
   ]
  },
  {
   "cell_type": "markdown",
   "id": "7628854d",
   "metadata": {},
   "source": [
    "!pip install pgmpy"
   ]
  },
  {
   "cell_type": "code",
   "execution_count": 2,
   "id": "5de0be4b",
   "metadata": {},
   "outputs": [
    {
     "name": "stdout",
     "output_type": "stream",
     "text": [
      "Requirement already satisfied: pgmpy in c:\\users\\pony\\appdata\\local\\packages\\pythonsoftwarefoundation.python.3.11_qbz5n2kfra8p0\\localcache\\local-packages\\python311\\site-packages (1.0.0)\n",
      "Requirement already satisfied: networkx in c:\\users\\pony\\appdata\\local\\packages\\pythonsoftwarefoundation.python.3.11_qbz5n2kfra8p0\\localcache\\local-packages\\python311\\site-packages (from pgmpy) (3.3)\n",
      "Requirement already satisfied: numpy in c:\\users\\pony\\appdata\\local\\packages\\pythonsoftwarefoundation.python.3.11_qbz5n2kfra8p0\\localcache\\local-packages\\python311\\site-packages (from pgmpy) (2.2.4)\n",
      "Requirement already satisfied: scipy in c:\\users\\pony\\appdata\\local\\packages\\pythonsoftwarefoundation.python.3.11_qbz5n2kfra8p0\\localcache\\local-packages\\python311\\site-packages (from pgmpy) (1.15.3)\n",
      "Requirement already satisfied: scikit-learn in c:\\users\\pony\\appdata\\local\\packages\\pythonsoftwarefoundation.python.3.11_qbz5n2kfra8p0\\localcache\\local-packages\\python311\\site-packages (from pgmpy) (1.6.1)\n",
      "Requirement already satisfied: pandas in c:\\users\\pony\\appdata\\local\\packages\\pythonsoftwarefoundation.python.3.11_qbz5n2kfra8p0\\localcache\\local-packages\\python311\\site-packages (from pgmpy) (2.2.3)\n",
      "Requirement already satisfied: torch in c:\\users\\pony\\appdata\\local\\packages\\pythonsoftwarefoundation.python.3.11_qbz5n2kfra8p0\\localcache\\local-packages\\python311\\site-packages (from pgmpy) (2.5.1+cu121)\n",
      "Requirement already satisfied: statsmodels in c:\\users\\pony\\appdata\\local\\packages\\pythonsoftwarefoundation.python.3.11_qbz5n2kfra8p0\\localcache\\local-packages\\python311\\site-packages (from pgmpy) (0.14.5)\n",
      "Requirement already satisfied: tqdm in c:\\users\\pony\\appdata\\local\\packages\\pythonsoftwarefoundation.python.3.11_qbz5n2kfra8p0\\localcache\\local-packages\\python311\\site-packages (from pgmpy) (4.67.1)\n",
      "Requirement already satisfied: joblib in c:\\users\\pony\\appdata\\local\\packages\\pythonsoftwarefoundation.python.3.11_qbz5n2kfra8p0\\localcache\\local-packages\\python311\\site-packages (from pgmpy) (1.5.0)\n",
      "Requirement already satisfied: opt-einsum in c:\\users\\pony\\appdata\\local\\packages\\pythonsoftwarefoundation.python.3.11_qbz5n2kfra8p0\\localcache\\local-packages\\python311\\site-packages (from pgmpy) (3.4.0)\n",
      "Requirement already satisfied: pyro-ppl in c:\\users\\pony\\appdata\\local\\packages\\pythonsoftwarefoundation.python.3.11_qbz5n2kfra8p0\\localcache\\local-packages\\python311\\site-packages (from pgmpy) (1.9.1)\n",
      "Requirement already satisfied: python-dateutil>=2.8.2 in c:\\users\\pony\\appdata\\local\\packages\\pythonsoftwarefoundation.python.3.11_qbz5n2kfra8p0\\localcache\\local-packages\\python311\\site-packages (from pandas->pgmpy) (2.9.0.post0)\n",
      "Requirement already satisfied: pytz>=2020.1 in c:\\users\\pony\\appdata\\local\\packages\\pythonsoftwarefoundation.python.3.11_qbz5n2kfra8p0\\localcache\\local-packages\\python311\\site-packages (from pandas->pgmpy) (2025.1)\n",
      "Requirement already satisfied: tzdata>=2022.7 in c:\\users\\pony\\appdata\\local\\packages\\pythonsoftwarefoundation.python.3.11_qbz5n2kfra8p0\\localcache\\local-packages\\python311\\site-packages (from pandas->pgmpy) (2025.1)\n",
      "Requirement already satisfied: pyro-api>=0.1.1 in c:\\users\\pony\\appdata\\local\\packages\\pythonsoftwarefoundation.python.3.11_qbz5n2kfra8p0\\localcache\\local-packages\\python311\\site-packages (from pyro-ppl->pgmpy) (0.1.2)\n",
      "Requirement already satisfied: filelock in c:\\users\\pony\\appdata\\local\\packages\\pythonsoftwarefoundation.python.3.11_qbz5n2kfra8p0\\localcache\\local-packages\\python311\\site-packages (from torch->pgmpy) (3.13.1)\n",
      "Requirement already satisfied: typing-extensions>=4.8.0 in c:\\users\\pony\\appdata\\local\\packages\\pythonsoftwarefoundation.python.3.11_qbz5n2kfra8p0\\localcache\\local-packages\\python311\\site-packages (from torch->pgmpy) (4.12.2)\n",
      "Requirement already satisfied: jinja2 in c:\\users\\pony\\appdata\\local\\packages\\pythonsoftwarefoundation.python.3.11_qbz5n2kfra8p0\\localcache\\local-packages\\python311\\site-packages (from torch->pgmpy) (3.1.4)\n",
      "Requirement already satisfied: fsspec in c:\\users\\pony\\appdata\\local\\packages\\pythonsoftwarefoundation.python.3.11_qbz5n2kfra8p0\\localcache\\local-packages\\python311\\site-packages (from torch->pgmpy) (2024.6.1)\n",
      "Requirement already satisfied: sympy==1.13.1 in c:\\users\\pony\\appdata\\local\\packages\\pythonsoftwarefoundation.python.3.11_qbz5n2kfra8p0\\localcache\\local-packages\\python311\\site-packages (from torch->pgmpy) (1.13.1)\n",
      "Requirement already satisfied: mpmath<1.4,>=1.1.0 in c:\\users\\pony\\appdata\\local\\packages\\pythonsoftwarefoundation.python.3.11_qbz5n2kfra8p0\\localcache\\local-packages\\python311\\site-packages (from sympy==1.13.1->torch->pgmpy) (1.3.0)\n",
      "Requirement already satisfied: colorama in c:\\users\\pony\\appdata\\local\\packages\\pythonsoftwarefoundation.python.3.11_qbz5n2kfra8p0\\localcache\\local-packages\\python311\\site-packages (from tqdm->pgmpy) (0.4.6)\n",
      "Requirement already satisfied: threadpoolctl>=3.1.0 in c:\\users\\pony\\appdata\\local\\packages\\pythonsoftwarefoundation.python.3.11_qbz5n2kfra8p0\\localcache\\local-packages\\python311\\site-packages (from scikit-learn->pgmpy) (3.6.0)\n",
      "Requirement already satisfied: patsy>=0.5.6 in c:\\users\\pony\\appdata\\local\\packages\\pythonsoftwarefoundation.python.3.11_qbz5n2kfra8p0\\localcache\\local-packages\\python311\\site-packages (from statsmodels->pgmpy) (1.0.1)\n",
      "Requirement already satisfied: packaging>=21.3 in c:\\users\\pony\\appdata\\local\\packages\\pythonsoftwarefoundation.python.3.11_qbz5n2kfra8p0\\localcache\\local-packages\\python311\\site-packages (from statsmodels->pgmpy) (24.2)\n",
      "Requirement already satisfied: six>=1.5 in c:\\users\\pony\\appdata\\local\\packages\\pythonsoftwarefoundation.python.3.11_qbz5n2kfra8p0\\localcache\\local-packages\\python311\\site-packages (from python-dateutil>=2.8.2->pandas->pgmpy) (1.17.0)\n",
      "Requirement already satisfied: MarkupSafe>=2.0 in c:\\users\\pony\\appdata\\local\\packages\\pythonsoftwarefoundation.python.3.11_qbz5n2kfra8p0\\localcache\\local-packages\\python311\\site-packages (from jinja2->torch->pgmpy) (2.1.5)\n"
     ]
    },
    {
     "name": "stderr",
     "output_type": "stream",
     "text": [
      "\n",
      "[notice] A new release of pip is available: 24.0 -> 25.1.1\n",
      "[notice] To update, run: C:\\Users\\Pony\\AppData\\Local\\Microsoft\\WindowsApps\\PythonSoftwareFoundation.Python.3.11_qbz5n2kfra8p0\\python.exe -m pip install --upgrade pip\n"
     ]
    }
   ],
   "source": [
    "!pip install pgmpy"
   ]
  },
  {
   "cell_type": "code",
   "execution_count": null,
   "id": "894dbc62",
   "metadata": {},
   "outputs": [
    {
     "name": "stderr",
     "output_type": "stream",
     "text": [
      "C:\\Users\\Pony\\AppData\\Local\\Packages\\PythonSoftwareFoundation.Python.3.11_qbz5n2kfra8p0\\LocalCache\\local-packages\\Python311\\site-packages\\tqdm\\auto.py:21: TqdmWarning: IProgress not found. Please update jupyter and ipywidgets. See https://ipywidgets.readthedocs.io/en/stable/user_install.html\n",
      "  from .autonotebook import tqdm as notebook_tqdm\n"
     ]
    },
    {
     "ename": "ImportError",
     "evalue": "cannot import name 'BayesianModel' from 'pgmpy.models' (C:\\Users\\Pony\\AppData\\Local\\Packages\\PythonSoftwareFoundation.Python.3.11_qbz5n2kfra8p0\\LocalCache\\local-packages\\Python311\\site-packages\\pgmpy\\models\\__init__.py)",
     "output_type": "error",
     "traceback": [
      "\u001b[31m---------------------------------------------------------------------------\u001b[39m",
      "\u001b[31mImportError\u001b[39m                               Traceback (most recent call last)",
      "\u001b[36mCell\u001b[39m\u001b[36m \u001b[39m\u001b[32mIn[1]\u001b[39m\u001b[32m, line 4\u001b[39m\n\u001b[32m      2\u001b[39m \u001b[38;5;28;01mfrom\u001b[39;00m\u001b[38;5;250m \u001b[39m\u001b[34;01msklearn\u001b[39;00m\u001b[34;01m.\u001b[39;00m\u001b[34;01mmodel_selection\u001b[39;00m\u001b[38;5;250m \u001b[39m\u001b[38;5;28;01mimport\u001b[39;00m train_test_split\n\u001b[32m      3\u001b[39m \u001b[38;5;28;01mfrom\u001b[39;00m\u001b[38;5;250m \u001b[39m\u001b[34;01msklearn\u001b[39;00m\u001b[34;01m.\u001b[39;00m\u001b[34;01mmetrics\u001b[39;00m\u001b[38;5;250m \u001b[39m\u001b[38;5;28;01mimport\u001b[39;00m accuracy_score, precision_score, recall_score, f1_score, confusion_matrix\n\u001b[32m----> \u001b[39m\u001b[32m4\u001b[39m \u001b[38;5;28;01mfrom\u001b[39;00m\u001b[38;5;250m \u001b[39m\u001b[34;01mpgmpy\u001b[39;00m\u001b[34;01m.\u001b[39;00m\u001b[34;01mmodels\u001b[39;00m\u001b[38;5;250m \u001b[39m\u001b[38;5;28;01mimport\u001b[39;00m BayesianModel\n\u001b[32m      5\u001b[39m \u001b[38;5;28;01mfrom\u001b[39;00m\u001b[38;5;250m \u001b[39m\u001b[34;01mpgmpy\u001b[39;00m\u001b[34;01m.\u001b[39;00m\u001b[34;01mestimators\u001b[39;00m\u001b[38;5;250m \u001b[39m\u001b[38;5;28;01mimport\u001b[39;00m MaximumLikelihoodEstimator\n\u001b[32m      6\u001b[39m \u001b[38;5;28;01mfrom\u001b[39;00m\u001b[38;5;250m \u001b[39m\u001b[34;01msklearn\u001b[39;00m\u001b[34;01m.\u001b[39;00m\u001b[34;01mpreprocessing\u001b[39;00m\u001b[38;5;250m \u001b[39m\u001b[38;5;28;01mimport\u001b[39;00m LabelEncoder\n",
      "\u001b[31mImportError\u001b[39m: cannot import name 'BayesianModel' from 'pgmpy.models' (C:\\Users\\Pony\\AppData\\Local\\Packages\\PythonSoftwareFoundation.Python.3.11_qbz5n2kfra8p0\\LocalCache\\local-packages\\Python311\\site-packages\\pgmpy\\models\\__init__.py)"
     ]
    }
   ],
   "source": [
    "\n",
    "import pandas as pd\n",
    "import matplotlib.pyplot as plt\n",
    "import seaborn as sns\n",
    "from sklearn.model_selection import train_test_split\n",
    "from sklearn.metrics import accuracy_score, precision_score, recall_score, f1_score, confusion_matrix\n",
    "#from pgmpy.models import BayesianModel\n",
    "from pgmpy.estimators import MaximumLikelihoodEstimator\n",
    "from sklearn.preprocessing import LabelEncoder\n",
    "beer_path = \"beer_updated.csv\"\n",
    "\n"
   ]
  },
  {
   "cell_type": "markdown",
   "id": "85b48066",
   "metadata": {},
   "source": [
    "2. Data Loading & Preprocessing"
   ]
  },
  {
   "cell_type": "markdown",
   "id": "43c51950",
   "metadata": {},
   "source": [
    "--------------------------------"
   ]
  },
  {
   "cell_type": "code",
   "execution_count": null,
   "id": "4267414a",
   "metadata": {},
   "outputs": [],
   "source": [
    "# from sklearn.preprocessing import LabelEncoder\n",
    "\n",
    "\n",
    "# def load_and_clean_data(beers_path, ratings_path, like_threshold=3.5):\n",
    "#     \"\"\"\n",
    "#     Load beer attributes and ratings, merge, drop NAs, binarize ratings, encode categorical features.\n",
    "#     \"\"\"\n",
    "#     og_df = pd.read_csv(beers_path)\n",
    "#     cleaned_df = og_df.copy().drop(\"rating\")\n",
    "#     cleaned_df[\"bin_rating\"] = 0\n",
    "#     for i  in range(len(og_df)):\n",
    "#         rating = og_df.iloc[i][\"rating\"]\n",
    "#         if rating >= like_threshold:\n",
    "#             cleaned_df.at[i,\"bin_rating\"] = 1\n",
    "#         else:\n",
    "#             cleaned_df.at[i, \"bin_rating\"] = 0\n",
    "#     return cleaned_df"
   ]
  },
  {
   "cell_type": "code",
   "execution_count": null,
   "id": "06047eb1",
   "metadata": {},
   "outputs": [],
   "source": [
    "def load_and_clean_data(beers_path, like_threshold=3.5):\n",
    "    \"\"\"\n",
    "    Load beer attributes and ratings, merge, drop NAs, binarize ratings, encode categorical features.\n",
    "    \"\"\"\n",
    "    og_df = pd.read_csv(beers_path)\n",
    "    cleaned_df = og_df.copy()\n",
    "    \n",
    "    # Create binary rating column more efficiently\n",
    "    cleaned_df[\"bin_rating\"] = (og_df[\"rating\"] >= like_threshold).astype(int)\n",
    "    \n",
    "    # Optional: drop the original rating column if you don't need it\n",
    "    # cleaned_df = cleaned_df.drop(\"rating\", axis=1)\n",
    "    \n",
    "    return cleaned_df"
   ]
  },
  {
   "cell_type": "markdown",
   "id": "24071702",
   "metadata": {},
   "source": [
    "Load CSVs"
   ]
  },
  {
   "cell_type": "code",
   "execution_count": null,
   "id": "3f216398",
   "metadata": {},
   "outputs": [],
   "source": [
    "    # beers = pd.read_csv(beers_path)\n",
    "    # ratings = pd.read_csv(ratings_path)\n"
   ]
  },
  {
   "cell_type": "markdown",
   "id": "fc2d87a3",
   "metadata": {},
   "source": [
    "Merge on 'beer_id'"
   ]
  },
  {
   "cell_type": "code",
   "execution_count": null,
   "id": "8c5c601b",
   "metadata": {},
   "outputs": [],
   "source": [
    "    df = pd.merge(beers, ratings, on='beer_id', how='inner')\n"
   ]
  },
  {
   "cell_type": "markdown",
   "id": "bd981bd9",
   "metadata": {},
   "source": [
    "Drop missing values in key columns"
   ]
  },
  {
   "cell_type": "code",
   "execution_count": null,
   "id": "c6006137",
   "metadata": {},
   "outputs": [],
   "source": [
    "    df = df.dropna(subset=['abv', 'ibu', 'ounces', 'style', 'rating_score']).reset_index(drop=True)\n"
   ]
  },
  {
   "cell_type": "markdown",
   "id": "abd3123a",
   "metadata": {},
   "source": [
    "Binarize ratings into 'Like' / 'Dislike'"
   ]
  },
  {
   "cell_type": "code",
   "execution_count": null,
   "id": "ac81f07b",
   "metadata": {},
   "outputs": [],
   "source": [
    "    df['Like'] = (df['rating_score'] >= like_threshold).astype(int)\n"
   ]
  },
  {
   "cell_type": "markdown",
   "id": "326b4927",
   "metadata": {},
   "source": [
    "Encode 'style' as numeric"
   ]
  },
  {
   "cell_type": "code",
   "execution_count": null,
   "id": "9ee280d7",
   "metadata": {},
   "outputs": [],
   "source": [
    "    le = LabelEncoder()\n",
    "    df['Style_enc'] = le.fit_transform(df['style'])\n",
    "    return df, le\n",
    "\n"
   ]
  },
  {
   "cell_type": "markdown",
   "id": "2f56edd9",
   "metadata": {},
   "source": [
    "Example usage:"
   ]
  },
  {
   "cell_type": "markdown",
   "id": "058ca59e",
   "metadata": {},
   "source": [
    "df, style_encoder = load_and_clean_data('beers.csv', 'ratings.csv')"
   ]
  },
  {
   "cell_type": "code",
   "execution_count": null,
   "id": "207d9b1f",
   "metadata": {},
   "outputs": [],
   "source": [
    "\n"
   ]
  },
  {
   "cell_type": "markdown",
   "id": "4b4d77f2",
   "metadata": {},
   "source": [
    "--------------------------------------------------"
   ]
  },
  {
   "cell_type": "markdown",
   "id": "6118b357",
   "metadata": {},
   "source": [
    "Preprocessing demonstration"
   ]
  },
  {
   "cell_type": "markdown",
   "id": "4678d91c",
   "metadata": {},
   "source": [
    "--------------------------------------------------"
   ]
  },
  {
   "cell_type": "markdown",
   "id": "849fd11c",
   "metadata": {},
   "source": [
    "df.head() shows combined and processed data"
   ]
  },
  {
   "cell_type": "code",
   "execution_count": null,
   "id": "0663c140",
   "metadata": {},
   "outputs": [],
   "source": [
    "try:\n",
    "    df, style_encoder\n",
    "except NameError:\n",
    "    df, style_encoder = load_and_clean_data('beers.csv', 'ratings.csv')\n",
    "print(df.head())\n",
    "\n"
   ]
  },
  {
   "cell_type": "markdown",
   "id": "d31612c7",
   "metadata": {},
   "source": [
    "3. Exploratory Analysis Exploratory Analysis"
   ]
  },
  {
   "cell_type": "markdown",
   "id": "eb83a7cb",
   "metadata": {},
   "source": [
    "-----------------------"
   ]
  },
  {
   "cell_type": "code",
   "execution_count": null,
   "id": "fe111ff0",
   "metadata": {},
   "outputs": [],
   "source": [
    "def explore_variables(df):\n",
    "    \"\"\"\n",
    "    Display info, stats, and basic plots.\n",
    "    \"\"\"\n",
    "    print(df.info())\n",
    "    print(df.describe())\n",
    "    df[['abv','ibu','ounces']].hist(bins=30, figsize=(12,4))\n",
    "    top_styles = df['style'].value_counts().nlargest(10)\n",
    "    top_styles.plot.bar(figsize=(8,4), title='Top 10 Beer Styles')\n",
    "\n",
    "\n"
   ]
  },
  {
   "cell_type": "markdown",
   "id": "0e209b82",
   "metadata": {},
   "source": [
    "4. Train/Test Split"
   ]
  },
  {
   "cell_type": "markdown",
   "id": "f92dd327",
   "metadata": {},
   "source": [
    "-------------------"
   ]
  },
  {
   "cell_type": "code",
   "execution_count": null,
   "id": "3e2cb13e",
   "metadata": {},
   "outputs": [],
   "source": [
    "def split_data(df, test_size=0.2, random_state=42):\n",
    "    X = df[['abv','ibu','ounces','style']]\n",
    "    y = df['Like']\n",
    "    return train_test_split(X, y, test_size=test_size, random_state=random_state)\n",
    "\n",
    "\n"
   ]
  },
  {
   "cell_type": "markdown",
   "id": "a31df33f",
   "metadata": {},
   "source": [
    "5. Model Structure & Parameter Learning"
   ]
  },
  {
   "cell_type": "markdown",
   "id": "20d6cbd6",
   "metadata": {},
   "source": [
    "---------------------------------------"
   ]
  },
  {
   "cell_type": "code",
   "execution_count": null,
   "id": "c8f7c29c",
   "metadata": {},
   "outputs": [],
   "source": [
    "model = BayesianModel([\n",
    "    ('abv', 'Like'),\n",
    "    ('ibu', 'Like'),\n",
    "    ('ounces', 'Like'),\n",
    "    ('style', 'Like')\n",
    "])\n",
    "\n",
    "def learn_parameters(model, df):\n",
    "    \"\"\"Fit the BayesianModel using Maximum Likelihood Estimation with Laplace smoothing.\"\"\"\n",
    "    model.fit(df, estimator=MaximumLikelihoodEstimator, prior_type='laplace')\n",
    "    return model\n",
    "\n",
    "\n"
   ]
  },
  {
   "cell_type": "markdown",
   "id": "0b36d6e1",
   "metadata": {},
   "source": [
    "6. Training"
   ]
  },
  {
   "cell_type": "markdown",
   "id": "b209f67d",
   "metadata": {},
   "source": [
    "-----------"
   ]
  },
  {
   "cell_type": "markdown",
   "id": "22184195",
   "metadata": {},
   "source": [
    "Example usage:"
   ]
  },
  {
   "cell_type": "markdown",
   "id": "ea68cd39",
   "metadata": {},
   "source": [
    "df = load_and_clean_data('beers.csv', 'ratings.csv')"
   ]
  },
  {
   "cell_type": "markdown",
   "id": "72d2b649",
   "metadata": {},
   "source": [
    "X_train, X_test, y_train, y_test = split_data(df)"
   ]
  },
  {
   "cell_type": "markdown",
   "id": "6024e328",
   "metadata": {},
   "source": [
    "train_df = X_train.copy(); train_df['Like'] = y_train"
   ]
  },
  {
   "cell_type": "markdown",
   "id": "586331e6",
   "metadata": {},
   "source": [
    "trained_model = learn_parameters(model, train_df)"
   ]
  },
  {
   "cell_type": "code",
   "execution_count": null,
   "id": "382cdec8",
   "metadata": {},
   "outputs": [],
   "source": [
    "\n",
    "\n"
   ]
  },
  {
   "cell_type": "markdown",
   "id": "20362ece",
   "metadata": {},
   "source": [
    "7. Evaluation"
   ]
  },
  {
   "cell_type": "markdown",
   "id": "a616a19f",
   "metadata": {},
   "source": [
    "-------------"
   ]
  },
  {
   "cell_type": "code",
   "execution_count": null,
   "id": "29e102c0",
   "metadata": {},
   "outputs": [],
   "source": [
    "def evaluate_model(model, X_test, y_test):\n",
    "    y_pred = model.predict(X_test)\n",
    "    acc = accuracy_score(y_test, y_pred)\n",
    "    prec = precision_score(y_test, y_pred)\n",
    "    rec = recall_score(y_test, y_pred)\n",
    "    f1 = f1_score(y_test, y_pred)\n",
    "    cm = confusion_matrix(y_test, y_pred)\n",
    "    return acc, prec, rec, f1, cm\n",
    "\n",
    "\n"
   ]
  },
  {
   "cell_type": "markdown",
   "id": "858451a6",
   "metadata": {},
   "source": [
    "8. Future Work"
   ]
  },
  {
   "cell_type": "markdown",
   "id": "e24bb939",
   "metadata": {},
   "source": [
    "--------------"
   ]
  },
  {
   "cell_type": "markdown",
   "id": "5968ce3a",
   "metadata": {},
   "source": [
    "- Compare to scikit-learn's CategoricalNB/GaussianNB"
   ]
  },
  {
   "cell_type": "markdown",
   "id": "213999ec",
   "metadata": {},
   "source": [
    "- Structure learning: Tree-Augmented NB"
   ]
  },
  {
   "cell_type": "markdown",
   "id": "82b59328",
   "metadata": {},
   "source": [
    "- Add contextual features (weather, mood)"
   ]
  },
  {
   "cell_type": "markdown",
   "id": "1257da8a",
   "metadata": {},
   "source": [
    "- Build a simple UI in Streamlit"
   ]
  },
  {
   "cell_type": "code",
   "execution_count": null,
   "id": "b827dc8a",
   "metadata": {},
   "outputs": [],
   "source": [
    "\n"
   ]
  },
  {
   "cell_type": "markdown",
   "id": "ebfb8233",
   "metadata": {},
   "source": [
    "To download this as a .ipynb file, run the following Python code in a Colab cell:"
   ]
  },
  {
   "cell_type": "markdown",
   "id": "1cb1ec19",
   "metadata": {},
   "source": [
    "```python"
   ]
  },
  {
   "cell_type": "markdown",
   "id": "fd4b50cd",
   "metadata": {},
   "source": [
    "import nbformat as nbf"
   ]
  },
  {
   "cell_type": "markdown",
   "id": "6fddd11d",
   "metadata": {},
   "source": []
  },
  {
   "cell_type": "markdown",
   "id": "1f5e4b5f",
   "metadata": {},
   "source": [
    "Read this script's text"
   ]
  },
  {
   "cell_type": "markdown",
   "id": "f4c44578",
   "metadata": {},
   "source": [
    "with open('/content/beer_pipeline_colab.py') as f:"
   ]
  },
  {
   "cell_type": "markdown",
   "id": "c7824e1a",
   "metadata": {},
   "source": [
    "script = f.read().splitlines()"
   ]
  },
  {
   "cell_type": "markdown",
   "id": "ade96a34",
   "metadata": {},
   "source": []
  },
  {
   "cell_type": "markdown",
   "id": "c6907573",
   "metadata": {},
   "source": [
    "nb = nbf.v4.new_notebook()"
   ]
  },
  {
   "cell_type": "markdown",
   "id": "c04e6f9e",
   "metadata": {},
   "source": [
    "cells = []"
   ]
  },
  {
   "cell_type": "markdown",
   "id": "db04334e",
   "metadata": {},
   "source": [
    "for line in script:"
   ]
  },
  {
   "cell_type": "markdown",
   "id": "9ac31b4a",
   "metadata": {},
   "source": [
    "if line.startswith('# %% [markdown]'):"
   ]
  },
  {
   "cell_type": "markdown",
   "id": "93512d91",
   "metadata": {},
   "source": [
    "cells.append(nbf.v4.new_markdown_cell('"
   ]
  },
  {
   "cell_type": "code",
   "execution_count": null,
   "id": "5076c184",
   "metadata": {},
   "outputs": [],
   "source": [
    "'.join(script[script.index(line)+1: script.index(line)+1])))\n"
   ]
  },
  {
   "cell_type": "markdown",
   "id": "0211c0fc",
   "metadata": {},
   "source": [
    "For brevity, assume script is preformatted into notebook cells"
   ]
  },
  {
   "cell_type": "markdown",
   "id": "b0a5d860",
   "metadata": {},
   "source": [
    "Instead, you can manually save this notebook via File > Download .ipynb"
   ]
  },
  {
   "cell_type": "markdown",
   "id": "b4da25dd",
   "metadata": {},
   "source": [
    "```"
   ]
  }
 ],
 "metadata": {
  "kernelspec": {
   "display_name": "Python 3",
   "language": "python",
   "name": "python3"
  },
  "language_info": {
   "codemirror_mode": {
    "name": "ipython",
    "version": 3
   },
   "file_extension": ".py",
   "mimetype": "text/x-python",
   "name": "python",
   "nbconvert_exporter": "python",
   "pygments_lexer": "ipython3",
   "version": "3.11.9"
  }
 },
 "nbformat": 4,
 "nbformat_minor": 5
}
